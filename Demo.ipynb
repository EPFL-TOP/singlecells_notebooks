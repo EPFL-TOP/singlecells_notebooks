{
 "cells": [
  {
   "cell_type": "code",
   "execution_count": 5,
   "id": "12abdaec-5add-478d-adff-4b1c9931eaf2",
   "metadata": {},
   "outputs": [
    {
     "name": "stdout",
     "output_type": "stream",
     "text": [
      "wscepfl0080\n",
      "    wscepfl0080_well2\n",
      "         wscepfl0080_xy41.nd2\n",
      "         wscepfl0080_xy44.nd2\n",
      "    wscepfl0080_well1\n",
      "         wscepfl0080_xy01.nd2\n",
      "         wscepfl0080_xy06.nd2\n",
      "bleb001\n",
      "    bleb001_well4\n",
      "         fna-bleb001_xy180.nd2\n",
      "         fna-bleb001_xy181.nd2\n",
      "         fna-bleb001_xy182.nd2\n",
      "         fna-bleb001_xy183.nd2\n",
      "         fna-bleb001_xy184.nd2\n",
      "         fna-bleb001_xy185.nd2\n",
      "         fna-bleb001_xy186.nd2\n",
      "         fna-bleb001_xy187.nd2\n",
      "         fna-bleb001_xy188.nd2\n",
      "         fna-bleb001_xy189.nd2\n",
      "         fna-bleb001_xy218.nd2\n",
      "         fna-bleb001_xy223.nd2\n",
      "    bleb001_well2\n",
      "         fna-bleb001_xy071.nd2\n",
      "         fna-bleb001_xy074.nd2\n",
      "    bleb001_well1\n",
      "         fna-bleb001_xy001.nd2\n",
      "         fna-bleb001_xy006.nd2\n",
      "    bleb001_well3\n",
      "         fna-bleb001_xy145.nd2\n",
      "         fna-bleb001_xy159.nd2\n"
     ]
    }
   ],
   "source": [
    "import utils as utils\n",
    "inputDir   = 'data'\n",
    "inputFiles = ['data_wscepfl0080.json', 'data_bleb001.json']\n",
    "\n",
    "selected_positions = {\n",
    "    'wscepfl0080':{'wscepfl0080_well1':['xy01','xy06'],\n",
    "                   'well2':['41','44']},\n",
    "    'bleb001':{'well1':['xy001','xy006'],\n",
    "               'well2':['071','074'],\n",
    "               'well3':['145','159'],\n",
    "               'well4':['18','223']}\n",
    "              \n",
    "}\n",
    "analysis_data = utils.merge_inputs(inputFiles, inputDir)\n",
    "analysis_data_selected = utils.select_data(analysis_data, selected_positions)\n",
    "#print(analysis_data_selected)\n",
    "\n",
    "for exp in analysis_data_selected:\n",
    "    print(exp)\n",
    "    for well in analysis_data_selected[exp]:\n",
    "        print('   ',well)\n",
    "        for pos in analysis_data_selected[exp][well]:\n",
    "            print('        ',pos)\n",
    "# returns JSON object as \n",
    "# a dictionary\n"
   ]
  },
  {
   "cell_type": "code",
   "execution_count": null,
   "id": "59d88771-88d3-48dc-8c58-56b47ecf5c24",
   "metadata": {},
   "outputs": [],
   "source": []
  },
  {
   "cell_type": "code",
   "execution_count": null,
   "id": "21713e75-b020-4af1-8a23-93ceda7e6948",
   "metadata": {},
   "outputs": [],
   "source": []
  },
  {
   "cell_type": "code",
   "execution_count": null,
   "id": "471b9ac3-0251-4408-9599-9861e80311fd",
   "metadata": {},
   "outputs": [],
   "source": []
  },
  {
   "cell_type": "code",
   "execution_count": null,
   "id": "bdafc15a-19ac-4cd1-be80-d4b6352ed87c",
   "metadata": {},
   "outputs": [],
   "source": []
  }
 ],
 "metadata": {
  "kernelspec": {
   "display_name": "Python 3 (ipykernel)",
   "language": "python",
   "name": "python3"
  },
  "language_info": {
   "codemirror_mode": {
    "name": "ipython",
    "version": 3
   },
   "file_extension": ".py",
   "mimetype": "text/x-python",
   "name": "python",
   "nbconvert_exporter": "python",
   "pygments_lexer": "ipython3",
   "version": "3.12.4"
  }
 },
 "nbformat": 4,
 "nbformat_minor": 5
}
