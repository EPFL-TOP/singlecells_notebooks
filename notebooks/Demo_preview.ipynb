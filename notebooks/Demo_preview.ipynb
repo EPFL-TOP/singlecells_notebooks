{
 "cells": [
  {
   "cell_type": "code",
   "execution_count": null,
   "metadata": {},
   "outputs": [],
   "source": [
    "import sys\n",
    "sys.path.append(\"../utils\")\n",
    "import utils_preview as prev\n",
    "\n",
    "file=r'D:\\single_cells\\raw_data\\microscopy\\cell_culture\\bleb001\\bleb001.nd2'\n",
    "\n",
    "low_crop = 0.85\n",
    "high_crop =1.15\n",
    "\n",
    "prev.load_nd2(file, low_crop, high_crop)\n",
    "prev.run_server()\n"
   ]
  }
 ],
 "metadata": {
  "language_info": {
   "name": "python"
  }
 },
 "nbformat": 4,
 "nbformat_minor": 2
}
