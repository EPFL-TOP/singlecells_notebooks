{
 "cells": [
  {
   "cell_type": "markdown",
   "id": "8fb2bffe-84a2-4470-9cbb-b86e1f079e19",
   "metadata": {},
   "source": [
    "Import everything"
   ]
  },
  {
   "cell_type": "code",
   "execution_count": 1,
   "id": "9c388bd3-5e83-4aaf-9885-73b946dd74bf",
   "metadata": {},
   "outputs": [],
   "source": [
    "import sys\n",
    "sys.path.append(\"../utils\")\n",
    "import utils_selection as utils_sel\n",
    "import utils_data as utils_dat\n",
    "import utils_bokeh as utils_bok\n",
    "import glob\n",
    "\n",
    "from pathlib import Path, WindowsPath\n",
    "\n",
    "import pandas as pd\n",
    "import numpy as np\n",
    "\n",
    "from bokeh.application.handlers import FunctionHandler\n",
    "from bokeh.application import Application\n",
    "from bokeh.server.server import Server\n",
    "from tornado.ioloop import IOLoop\n",
    "import asyncio\n",
    "#output_notebook()"
   ]
  },
  {
   "cell_type": "markdown",
   "id": "69d40d18-db43-42b9-9bad-376212fdf8d1",
   "metadata": {},
   "source": [
    "Set user parameters, data etc...."
   ]
  },
  {
   "cell_type": "code",
   "execution_count": 2,
   "id": "a12c3710-ad29-4d77-9723-2c4ac1d1ee07",
   "metadata": {},
   "outputs": [],
   "source": [
    "inputDir   = '/Users/helsens/Software/github/EPFL-TOP/singlecells_notebooks/data'\n",
    "inputFiles = ['data_wscepfl0080.json', 'data_bleb001.json', 'data_bleb002.json']\n",
    "inputFiles = ['data_wscepfl0113.json']\n",
    "outputFile = 'myFile_curatedPeaks.json'\n",
    "\n",
    "selected_positions = {\n",
    "#    'wscepfl0080':{'wscepfl0080_well1':['xy01','xy06'],\n",
    "#                   'well2':['41','44']},\n",
    "    'bleb001':{'well1':['xy'],\n",
    "               'well2':['fna-bleb001_xy071.nd2','074'],\n",
    "               'well3':['145','159'],\n",
    "               'well4':['xy']},\n",
    "    \n",
    "        'bleb002':{'well1':['xy'],\n",
    "               'well2':['xy'],\n",
    "               'well3':['xy']}\n",
    "}\n",
    "\n",
    "#selected_positions = {\n",
    "#'wscepfl0113':{'well2':['xy']}\n",
    "#}"
   ]
  },
  {
   "cell_type": "markdown",
   "id": "73beb2e6-5125-4e99-8fd2-0cea29421e5e",
   "metadata": {},
   "source": [
    "Merge inputs and apply filters"
   ]
  },
  {
   "cell_type": "code",
   "execution_count": 3,
   "id": "12abdaec-5add-478d-adff-4b1c9931eaf2",
   "metadata": {},
   "outputs": [],
   "source": [
    "analysis_data = utils_sel.merge_inputs(inputFiles, inputDir)\n",
    "\n",
    "analysis_data_selected = utils_sel.select_data(analysis_data, selected_positions)\n",
    "\n",
    "analysis_data_selected = utils_sel.select_main_flags(analysis_data_selected, ('keep_sample', True))\n",
    "analysis_data_selected = utils_sel.select_main_flags(analysis_data_selected, ('sample_quality', 'High'))\n",
    "analysis_data_selected = utils_sel.select_main_flags(analysis_data_selected, ('peaks_tod_div_validated', True))\n",
    "\n",
    "analysis_data_selected = utils_sel.select_cell_flags(analysis_data_selected, ('dividing', False))\n",
    "#analysis_data_selected = utils_sel.select_cell_flags(analysis_data_selected, ('dividing', True, 'alo'))\n",
    "analysis_data_selected = utils_sel.select_cell_flags(analysis_data_selected, ('elongated', False))\n",
    "#analysis_data_selected = utils_sel.select_cell_flags(analysis_data_selected, ('oscillating', True), 'alo') #Two possible modes, \"all\" (default, all time frame must comply),  \"alo\" (at least one time frame must comply)\n",
    "\n",
    "#Time in minutes \"gt\"=greater than, \"lt\"=less than, \"eq\" equal\n",
    "analysis_data_selected = utils_sel.select_cell_main_features(analysis_data_selected, ('time_of_death', 200), 'gt')\n",
    "analysis_data_selected = utils_sel.select_cell_main_features(analysis_data_selected, ('start_oscillation_time', 200), 'lt')\n",
    "analysis_data_selected = utils_sel.select_cell_main_features(analysis_data_selected, ('n_oscillations', 1), 'gt')\n",
    "\n",
    "#utils_sel.save_data(analysis_data_selected)\n"
   ]
  },
  {
   "cell_type": "markdown",
   "id": "332b03c2-e98d-4cbb-b66b-dc656924b52c",
   "metadata": {},
   "source": [
    "Convert to dictionnaries, further selecting and giving them to bokeh"
   ]
  },
  {
   "cell_type": "code",
   "execution_count": 4,
   "id": "79f35889-30c6-40e8-9d63-ad0af928a1b9",
   "metadata": {},
   "outputs": [
    {
     "name": "stdout",
     "output_type": "stream",
     "text": [
      "[]\n"
     ]
    }
   ],
   "source": [
    "#print(analysis_data_selected['wscepfl0113']['wscepfl0113_well2']['wscepfl0113_xy071.nd2']['cell0']['peaks'])\n",
    "#test={}\n",
    "#print(len(test))\n",
    "\n",
    "intensities = utils_dat.get_intensities_time(analysis_data_selected)\n",
    "peaks_tod   = utils_dat.get_peaks_tod(analysis_data_selected)\n",
    "\n",
    "last_peaks_time = utils_dat.get_last_peaks_time(peaks_tod)\n",
    "print(last_peaks_time)\n",
    "\n",
    "last_peaks_time = utils_dat.get_last_peaks_time(peaks_tod, ('bleb002', 'well1'))\n",
    "start_osc_time  = utils_dat.get_peaks_stuff_time('start_oscillation_time' ,peaks_tod)\n",
    "end_osc_time    = utils_dat.get_peaks_stuff_time('end_oscillation_time',peaks_tod)\n",
    "time_of_death   = utils_dat.get_peaks_stuff_time('time_of_death', peaks_tod)\n"
   ]
  },
  {
   "cell_type": "code",
   "execution_count": 5,
   "id": "32d38c9a-c80b-4e7e-95df-a2df3c2fa094",
   "metadata": {},
   "outputs": [
    {
     "name": "stdout",
     "output_type": "stream",
     "text": [
      "[]\n"
     ]
    }
   ],
   "source": [
    "intensities_list = utils_dat.get_intensities_time(analysis_data_selected, selection=('bleb002', 'well1'))\n",
    "peaks_list       = utils_dat.get_peaks_tod(analysis_data_selected, selection=('bleb002', 'well1'))\n",
    "\n",
    "intensities = utils_dat.get_intensities_time(analysis_data_selected, islist=False)\n",
    "peaks_tod   = utils_dat.get_peaks_tod(analysis_data_selected, islist=False)\n",
    "\n",
    "last_peaks_time = utils_dat.get_last_peaks_time(peaks_tod, ('bleb002', 'well1'))\n",
    "start_osc_time  = utils_dat.get_peaks_stuff_time('start_oscillation_time' ,peaks_tod, ('bleb002', 'well'))\n",
    "end_osc_time    = utils_dat.get_peaks_stuff_time('end_oscillation_time',peaks_tod, ('bleb002', ''))\n",
    "time_of_death   = utils_dat.get_peaks_stuff_time('time_of_death', peaks_tod, ('bleb002', ''))\n",
    "\n",
    "utils_bok.intensities = intensities_list\n",
    "utils_bok.peaks       = peaks_list\n",
    "\n",
    "utils_bok.last_peaks_time = last_peaks_time\n",
    "utils_bok.start_osc_time  = start_osc_time\n",
    "utils_bok.end_osc_time    = end_osc_time\n",
    "utils_bok.time_of_death   = time_of_death\n",
    "print(last_peaks_time)\n",
    "#print(intensities)\n"
   ]
  },
  {
   "cell_type": "code",
   "execution_count": 6,
   "id": "30b3418d-ecca-469c-b4c1-7ec5d9bd9053",
   "metadata": {},
   "outputs": [
    {
     "name": "stderr",
     "output_type": "stream",
     "text": [
      "ERROR:tornado.application:Uncaught exception GET / (127.0.0.1)\n",
      "HTTPServerRequest(protocol='http', host='localhost:5005', method='GET', uri='/', version='HTTP/1.1', remote_ip='127.0.0.1')\n",
      "Traceback (most recent call last):\n",
      "  File \"/Users/helsens/miniconda3/envs/singlecells_analysis/lib/python3.12/site-packages/tornado/web.py\", line 1790, in _execute\n",
      "    result = await result\n",
      "             ^^^^^^^^^^^^\n",
      "  File \"/Users/helsens/miniconda3/envs/singlecells_analysis/lib/python3.12/site-packages/bokeh/server/views/doc_handler.py\", line 54, in get\n",
      "    session = await self.get_session()\n",
      "              ^^^^^^^^^^^^^^^^^^^^^^^^\n",
      "  File \"/Users/helsens/miniconda3/envs/singlecells_analysis/lib/python3.12/site-packages/bokeh/server/views/session_handler.py\", line 145, in get_session\n",
      "    session = await self.application_context.create_session_if_needed(session_id, self.request, token)\n",
      "              ^^^^^^^^^^^^^^^^^^^^^^^^^^^^^^^^^^^^^^^^^^^^^^^^^^^^^^^^^^^^^^^^^^^^^^^^^^^^^^^^^^^^^^^^\n",
      "  File \"/Users/helsens/miniconda3/envs/singlecells_analysis/lib/python3.12/site-packages/bokeh/server/contexts.py\", line 240, in create_session_if_needed\n",
      "    self._application.initialize_document(doc)\n",
      "  File \"/Users/helsens/miniconda3/envs/singlecells_analysis/lib/python3.12/site-packages/bokeh/application/application.py\", line 190, in initialize_document\n",
      "    h.modify_document(doc)\n",
      "  File \"/Users/helsens/miniconda3/envs/singlecells_analysis/lib/python3.12/site-packages/bokeh/application/handlers/function.py\", line 140, in modify_document\n",
      "    self._func(doc)\n",
      "  File \"/Users/helsens/Software/github/EPFL-TOP/singlecells_notebooks/notebooks/../utils/utils_bokeh.py\", line 34, in modify_doc\n",
      "    bins = np.linspace(np.min(last_peaks_time), np.max(last_peaks_time), 20)\n",
      "                   ^^^^^^^^^^^^^^^^^^^^^^^\n",
      "  File \"/Users/helsens/miniconda3/envs/singlecells_analysis/lib/python3.12/site-packages/numpy/_core/fromnumeric.py\", line 3042, in min\n",
      "    return _wrapreduction(a, np.minimum, 'min', axis, None, out,\n",
      "           ^^^^^^^^^^^^^^^^^^^^^^^^^^^^^^^^^^^^^^^^^^^^^^^^^^^^^\n",
      "  File \"/Users/helsens/miniconda3/envs/singlecells_analysis/lib/python3.12/site-packages/numpy/_core/fromnumeric.py\", line 86, in _wrapreduction\n",
      "    return ufunc.reduce(obj, axis, dtype, out, **passkwargs)\n",
      "           ^^^^^^^^^^^^^^^^^^^^^^^^^^^^^^^^^^^^^^^^^^^^^^^^^\n",
      "ValueError: zero-size array to reduction operation minimum which has no identity\n",
      "ERROR:tornado.access:500 GET / (127.0.0.1) 12.26ms\n"
     ]
    }
   ],
   "source": [
    "# Create the application\n",
    "app = Application(FunctionHandler(utils_bok.modify_doc))\n",
    "\n",
    "current_socket = 'localhost:8888'\n",
    "port = 5005\n",
    "\n",
    "#########################\n",
    "# Integrate with the current Jupyter server -- To be checked\n",
    "server = Server({'/': app}, port=port, io_loop=IOLoop.current(), allow_websocket_origin=[current_socket, \"localhost:\"+str(port)])\n",
    "\n",
    "async def show_app():\n",
    "    server.io_loop.add_callback(server.show, \"/\")\n",
    "    await server.io_loop.start()\n",
    "\n",
    "# Integrate with the Jupyter notebook event loop\n",
    "loop = asyncio.get_event_loop()\n",
    "if loop.is_running():\n",
    "    loop.create_task(show_app())\n",
    "else:\n",
    "    loop.run_until_complete(show_app())\n"
   ]
  },
  {
   "cell_type": "code",
   "execution_count": 6,
   "id": "b7b07542-d17f-49a4-985e-0809349ae575",
   "metadata": {},
   "outputs": [],
   "source": [
    "app2 = Application(FunctionHandler(utils_bok.modify_doc))\n",
    "current_socket = 'localhost:8888'\n",
    "port = 5006\n",
    "#########################\n",
    "# Integrate with the current Jupyter server -- To be checked\n",
    "server = Server({'/': app2}, port=port, io_loop=IOLoop.current(), allow_websocket_origin=[current_socket, \"localhost:\"+str(port)])\n",
    "\n",
    "async def show_app():\n",
    "    server.io_loop.add_callback(server.show, \"/\")\n",
    "    await server.io_loop.start()\n",
    "\n",
    "# Integrate with the Jupyter notebook event loop\n",
    "loop = asyncio.get_event_loop()\n",
    "if loop.is_running():\n",
    "    loop.create_task(show_app())\n",
    "else:\n",
    "    loop.run_until_complete(show_app())\n"
   ]
  },
  {
   "cell_type": "markdown",
   "id": "ebb04efa-162f-4510-8726-06a390eb923c",
   "metadata": {},
   "source": [
    "\n"
   ]
  },
  {
   "cell_type": "code",
   "execution_count": 6,
   "id": "1dfcdc69-30b5-4448-b1d5-94b5524b9a2d",
   "metadata": {},
   "outputs": [
    {
     "name": "stdout",
     "output_type": "stream",
     "text": [
      "wscepfl0080\n",
      "    wscepfl0080_well2\n",
      "         wscepfl0080_xy41.nd2\n",
      "         wscepfl0080_xy44.nd2\n",
      "bleb001\n",
      "    bleb001_well4\n",
      "         fna-bleb001_xy181.nd2\n",
      "         fna-bleb001_xy183.nd2\n",
      "         fna-bleb001_xy185.nd2\n",
      "         fna-bleb001_xy187.nd2\n",
      "         fna-bleb001_xy190.nd2\n",
      "         fna-bleb001_xy195.nd2\n",
      "         fna-bleb001_xy198.nd2\n",
      "         fna-bleb001_xy199.nd2\n",
      "         fna-bleb001_xy200.nd2\n",
      "         fna-bleb001_xy211.nd2\n",
      "         fna-bleb001_xy213.nd2\n",
      "         fna-bleb001_xy220.nd2\n",
      "    bleb001_well2\n",
      "         fna-bleb001_xy074.nd2\n",
      "    bleb001_well1\n",
      "         fna-bleb001_xy002.nd2\n",
      "         fna-bleb001_xy006.nd2\n",
      "         fna-bleb001_xy007.nd2\n",
      "         fna-bleb001_xy008.nd2\n",
      "         fna-bleb001_xy031.nd2\n",
      "         fna-bleb001_xy035.nd2\n",
      "         fna-bleb001_xy037.nd2\n",
      "         fna-bleb001_xy052.nd2\n",
      "         fna-bleb001_xy053.nd2\n",
      "         fna-bleb001_xy057.nd2\n",
      "         fna-bleb001_xy062.nd2\n"
     ]
    }
   ],
   "source": [
    "for exp in analysis_data_selected:\n",
    "    print(exp)\n",
    "    for well in analysis_data_selected[exp]:\n",
    "        print('   ',well)\n",
    "        for pos in analysis_data_selected[exp][well]:\n",
    "            \n",
    "            print('        ',pos)"
   ]
  },
  {
   "cell_type": "code",
   "execution_count": null,
   "id": "74129f26-156a-4785-b965-53e299432542",
   "metadata": {},
   "outputs": [],
   "source": []
  }
 ],
 "metadata": {
  "kernelspec": {
   "display_name": "Python 3 (ipykernel)",
   "language": "python",
   "name": "python3"
  },
  "language_info": {
   "codemirror_mode": {
    "name": "ipython",
    "version": 3
   },
   "file_extension": ".py",
   "mimetype": "text/x-python",
   "name": "python",
   "nbconvert_exporter": "python",
   "pygments_lexer": "ipython3",
   "version": "3.12.4"
  }
 },
 "nbformat": 4,
 "nbformat_minor": 5
}
