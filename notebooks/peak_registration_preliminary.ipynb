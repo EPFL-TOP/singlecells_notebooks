{
 "cells": [
  {
   "cell_type": "code",
   "execution_count": null,
   "id": "372dd035-2b56-49d2-bfa3-edc2ddc1a347",
   "metadata": {},
   "outputs": [],
   "source": [
    "import sys\n",
    "\n",
    "import pandas as pd\n",
    "\n",
    "from pathlib import Path, WindowsPath\n",
    "from bokeh.io import output_notebook\n"
   ]
  },
  {
   "cell_type": "code",
   "execution_count": null,
   "id": "0ff9d88b-c921-4b08-8def-d3ae831ec3bd",
   "metadata": {},
   "outputs": [],
   "source": [
    "if Path('../utils').exists() == True and Path('../utils').is_dir() == True:\n",
    "    sys.path.append(Path('../utils').as_posix())\n",
    "    import dashboard_utils_preliminary as dashboard_utils\n",
    "else:\n",
    "    raise ImportError('Module not found')"
   ]
  },
  {
   "cell_type": "code",
   "execution_count": null,
   "id": "80b85092-86ef-42fe-ae0a-4701dbfbe64d",
   "metadata": {},
   "outputs": [],
   "source": [
    "# User arguments\n",
    "\n",
    "notebook_url = 'localhost:8888'    # Web socket allocated for the Jupyter server (see the web browser url bar)\n",
    "path_to_traces_looping = '../example_dataset_preliminary.xlsx'    # Path to the traces and ToD data\n",
    "# path_to_traces_heidi = ''\n",
    "exp_name = 'wscepfl0090'    # Experiment name\n",
    "output_folder = './'+exp_name   # Path to output folder, by default a folder with the same name as the experiment\n",
    "interval = 10    # Sample rate"
   ]
  },
  {
   "cell_type": "code",
   "execution_count": null,
   "id": "c9b318e5-6c48-4642-8588-d77e4010e5d6",
   "metadata": {},
   "outputs": [],
   "source": [
    "output_folder_path = Path(output_folder)\n",
    "peaks_output_path = Path(output_folder_path.as_posix() + '/peaks_' + exp_name + '.csv')"
   ]
  },
  {
   "cell_type": "code",
   "execution_count": null,
   "id": "fcb197d1-0e06-492f-a894-d4505b572a7b",
   "metadata": {},
   "outputs": [],
   "source": [
    "# Format dataframe\n",
    "all_signals_norm, tod, min_max_values, traces_looping, traces_heidi = dashboard_utils.format_dataframe(path_to_traces_looping, normalize_df=dashboard_utils.normalize_df)"
   ]
  },
  {
   "cell_type": "code",
   "execution_count": null,
   "id": "4c1b53c2-3f06-43c7-ab30-92176b33b850",
   "metadata": {},
   "outputs": [],
   "source": [
    "# Visualize all traces\n",
    "output_notebook()\n",
    "dashboard_utils.visualize_traces([traces_looping, traces_heidi], exp_name=exp_name)"
   ]
  },
  {
   "cell_type": "code",
   "execution_count": null,
   "id": "39094fcc-7d6c-4a94-adf7-d275027811de",
   "metadata": {},
   "outputs": [],
   "source": [
    "# Call registration dashboard\n",
    "output_notebook()\n",
    "dashboard_utils.dashboard_registration(all_signals_norm, tod=tod, min_max_values=min_max_values, exp_name=exp_name, interval=interval, notebook_url=notebook_url)"
   ]
  },
  {
   "cell_type": "code",
   "execution_count": null,
   "id": "1b1f88dd-4f82-4f9d-bb06-1ca3c6091883",
   "metadata": {},
   "outputs": [],
   "source": [
    "# Inspect dataframe\n",
    "dashboard_utils.peak_data_dashboard"
   ]
  },
  {
   "cell_type": "code",
   "execution_count": null,
   "id": "03af2173-e212-46e4-8a3e-e4050ddd2fca",
   "metadata": {},
   "outputs": [],
   "source": [
    "registered_peaks = dashboard_utils.peak_data_dashboard\n",
    "\n",
    "# Check if output folder exist and save data\n",
    "# Create folder otherwise\n",
    "\n",
    "if output_folder_path.exists() and output_folder_path.is_dir():\n",
    "    registered_peaks.to_csv(peaks_output_path.as_posix())\n",
    "else:\n",
    "    print(f'Output folder does not exist. Create: {output_folder_path.absolute()}')\n",
    "    output_folder_path.mkdir()\n",
    "    registered_peaks.to_csv(peaks_output_path.as_posix())"
   ]
  },
  {
   "cell_type": "code",
   "execution_count": null,
   "id": "6e7dfb0e-9a8d-4242-bf96-82b72721df3f",
   "metadata": {},
   "outputs": [],
   "source": [
    "# Visualize valid traces with points\n",
    "output_notebook()\n",
    "dashboard_utils.visualize_traces_wpoints(traces_looping, registered_peaks=registered_peaks, exp_name=exp_name)"
   ]
  },
  {
   "cell_type": "code",
   "execution_count": null,
   "id": "29070c47-94d9-425e-8fd4-0e8ae2f9fddc",
   "metadata": {},
   "outputs": [],
   "source": []
  }
 ],
 "metadata": {
  "kernelspec": {
   "display_name": "Python(devbio-napari-cupy)",
   "language": "python",
   "name": "devbio-napari-cupy"
  },
  "language_info": {
   "codemirror_mode": {
    "name": "ipython",
    "version": 3
   },
   "file_extension": ".py",
   "mimetype": "text/x-python",
   "name": "python",
   "nbconvert_exporter": "python",
   "pygments_lexer": "ipython3",
   "version": "3.9.15"
  }
 },
 "nbformat": 4,
 "nbformat_minor": 5
}
