{
 "cells": [
  {
   "cell_type": "code",
   "execution_count": null,
   "id": "c2e9f539-463c-400b-bbdc-57b8a37c587c",
   "metadata": {},
   "outputs": [],
   "source": [
    "import sys\n",
    "\n",
    "import re\n",
    "\n",
    "import pathlib\n",
    "from pathlib import Path, WindowsPath\n",
    "\n",
    "import pandas as pd\n",
    "from bokeh.plotting import output_notebook"
   ]
  },
  {
   "cell_type": "code",
   "execution_count": null,
   "id": "1ee1b7c8-1620-44c2-acd9-286d98f38a59",
   "metadata": {},
   "outputs": [],
   "source": [
    "output_notebook()"
   ]
  },
  {
   "cell_type": "code",
   "execution_count": null,
   "id": "dc542dd7-f77d-496b-ab47-b776b3c1f007",
   "metadata": {},
   "outputs": [],
   "source": [
    "if Path('../utils').exists() == True and Path('../utils').is_dir() == True:\n",
    "    sys.path.append(Path('../utils').as_posix())\n",
    "    import analysis_utils_preliminary as analysis_utils\n",
    "else:\n",
    "    raise ImportError('Module not found')"
   ]
  },
  {
   "cell_type": "code",
   "execution_count": null,
   "id": "2747bdac-36cd-41dc-813a-22c1dc23a631",
   "metadata": {},
   "outputs": [],
   "source": [
    "pattern = r'_pos_(\\d+)'\n",
    "def assign_condition(signal, pattern=pattern):\n",
    "    # Extract nnn using regex\n",
    "    match = re.search(pattern, signal)\n",
    "    if match:\n",
    "        nnn = int(match.group(1))\n",
    "        # Define conditions based on nnn value\n",
    "        if nnn <= 40:\n",
    "            return 'Well 1'\n",
    "        elif 45 <= nnn <= 61:\n",
    "            return 'Well 2'\n",
    "        # elif 61 <= nnn <= 90:\n",
    "        #     return '100 nM'\n",
    "        # elif 91 <= nnn <= 120:\n",
    "        #     return '1000 nM'\n",
    "        else:\n",
    "            return 'Unknown'\n",
    "    return 'Unknown'\n",
    "\n",
    "# Apply the function to create the Condition column"
   ]
  },
  {
   "cell_type": "code",
   "execution_count": null,
   "id": "2988174e-21bd-4ae0-a335-ee709003583e",
   "metadata": {},
   "outputs": [],
   "source": [
    "# User args\n",
    "imported_peaks = '../example_peak_df_preliminary.csv'"
   ]
  },
  {
   "cell_type": "code",
   "execution_count": null,
   "id": "795eed40-b2be-4a5f-8aee-6e9ef475d11b",
   "metadata": {},
   "outputs": [],
   "source": [
    "peak_data_path= Path(imported_peaks)\n",
    "peak_data = pd.read_csv(peak_data_path.as_posix(), index_col=0)"
   ]
  },
  {
   "cell_type": "code",
   "execution_count": null,
   "id": "9d39b570-ecaf-4e74-b38b-e4b893d073df",
   "metadata": {},
   "outputs": [],
   "source": [
    "peak_data"
   ]
  },
  {
   "cell_type": "code",
   "execution_count": null,
   "id": "87181701-80d2-4d4e-8a97-8bfbe5af962b",
   "metadata": {},
   "outputs": [],
   "source": [
    "# Assign conditions\n",
    "# Assume for now that there's only 1 condition per dataset\n",
    "peak_data['Condition'] = 'Generic condition'\n",
    "# peak_data['Condition'] = peak_data['Signal'].apply(assign_condition)\n",
    "valid_signals = peak_data.dropna()\n",
    "interval = float(valid_signals['Sample rate'].max())"
   ]
  },
  {
   "cell_type": "code",
   "execution_count": null,
   "id": "32847d6a-eb37-4853-887e-b2a77caf10f1",
   "metadata": {},
   "outputs": [],
   "source": [
    "# Histogram number of peaks\n",
    "output_notebook()\n",
    "analysis_utils.number_cycles_histogram(valid_signals, crit_point='peak')"
   ]
  },
  {
   "cell_type": "code",
   "execution_count": null,
   "id": "ade86c15-687f-44ec-bd05-0c1835ab0bb9",
   "metadata": {},
   "outputs": [],
   "source": [
    "# Histogram number of troughs\n",
    "output_notebook()\n",
    "analysis_utils.number_cycles_histogram(valid_signals, crit_point='trough')"
   ]
  },
  {
   "cell_type": "code",
   "execution_count": null,
   "id": "275525e2-79b0-4f75-a010-7d5389fc326e",
   "metadata": {},
   "outputs": [],
   "source": [
    "# Histogram time of last peak\n",
    "output_notebook()\n",
    "analysis_utils.last_peak_histogram(valid_signals)"
   ]
  },
  {
   "cell_type": "code",
   "execution_count": null,
   "id": "556526c9-a0f6-47de-afac-6cd918d0f67f",
   "metadata": {},
   "outputs": [],
   "source": [
    "# Periods vs Cycle number - first-peak aligned\n",
    "output_notebook()\n",
    "analysis_utils.period_vs_cycn(valid_signals, crit_point='peak', alignment='first-peak', min_crit_p=2)"
   ]
  },
  {
   "cell_type": "code",
   "execution_count": null,
   "id": "6a125e4a-4359-449d-893d-1ce31beeb671",
   "metadata": {},
   "outputs": [],
   "source": [
    "# Periods vs Cycle number - last-peak aligned\n",
    "output_notebook()\n",
    "analysis_utils.period_vs_cycn(valid_signals, crit_point='peak', alignment='last-peak', min_crit_p=2)"
   ]
  },
  {
   "cell_type": "code",
   "execution_count": null,
   "id": "aad5c207-0078-43a0-b385-d2c5bf263262",
   "metadata": {},
   "outputs": [],
   "source": [
    "# Periods vs Cycle number - first-trough aligned\n",
    "output_notebook()\n",
    "analysis_utils.period_vs_cycn(valid_signals, crit_point='trough', alignment='first-peak', min_crit_p=2)"
   ]
  },
  {
   "cell_type": "code",
   "execution_count": null,
   "id": "15848421-56ca-4f51-98d3-82454b99da9c",
   "metadata": {},
   "outputs": [],
   "source": [
    "# Periods vs Cycle number - last-trough aligned\n",
    "output_notebook()\n",
    "analysis_utils.period_vs_cycn(valid_signals, crit_point='trough', alignment='last-peak', min_crit_p=2)"
   ]
  },
  {
   "cell_type": "code",
   "execution_count": null,
   "id": "8d147097-3f3e-4027-9f34-623c53ea3f80",
   "metadata": {},
   "outputs": [],
   "source": [
    "# Intensity vs cycle number first-peak aligned\n",
    "output_notebook()\n",
    "analysis_utils.intensity_vs_cyclen(valid_signals, crit_point='peak', alignment='first-peak', min_crit_p=2)"
   ]
  },
  {
   "cell_type": "code",
   "execution_count": null,
   "id": "caee9bfc-043e-4674-9b06-fa6cf2c3daec",
   "metadata": {},
   "outputs": [],
   "source": [
    "# Intensity vs cycle number last-peak aligned\n",
    "output_notebook()\n",
    "analysis_utils.intensity_vs_cyclen(valid_signals, crit_point='peak', alignment='last-peak', min_crit_p=2)"
   ]
  },
  {
   "cell_type": "code",
   "execution_count": null,
   "id": "8e9b96e5-74e4-46ed-b2c7-8b193b7e750d",
   "metadata": {},
   "outputs": [],
   "source": [
    "# Intensity vs cycle number first-trough aligned\n",
    "output_notebook()\n",
    "analysis_utils.intensity_vs_cyclen(valid_signals, crit_point='trough', alignment='first-peak', min_crit_p=2)"
   ]
  },
  {
   "cell_type": "code",
   "execution_count": null,
   "id": "28e736c4-2180-4177-90b1-980fd3331453",
   "metadata": {},
   "outputs": [],
   "source": [
    "# Intensity vs cycle number last-trough aligned\n",
    "output_notebook()\n",
    "analysis_utils.intensity_vs_cyclen(valid_signals, crit_point='trough', alignment='last-peak', min_crit_p=2)"
   ]
  },
  {
   "cell_type": "code",
   "execution_count": null,
   "id": "917db992-41c0-42cc-a3de-f38379e58d50",
   "metadata": {},
   "outputs": [],
   "source": [
    "# Successive intensity ratios first-peak aligned\n",
    "output_notebook()\n",
    "analysis_utils.succesive_intensity_r(valid_signals, crit_point='peak', alignment='first-peak', ref='n', min_crit_p=2)"
   ]
  },
  {
   "cell_type": "code",
   "execution_count": null,
   "id": "dcd39aef-bf46-465f-bdab-2615d877c9f5",
   "metadata": {},
   "outputs": [],
   "source": [
    "# Successive intensity ratios last-peak aligned\n",
    "output_notebook()\n",
    "analysis_utils.succesive_intensity_r(valid_signals, crit_point='peak', alignment='last-peak', ref='n', min_crit_p=2)"
   ]
  },
  {
   "cell_type": "code",
   "execution_count": null,
   "id": "17d86446-f549-43f4-afa2-fb6fc376e607",
   "metadata": {},
   "outputs": [],
   "source": [
    "# Successive intensity ratios first-trough aligned\n",
    "output_notebook()\n",
    "analysis_utils.succesive_intensity_r(valid_signals, crit_point='trough', alignment='first-peak', ref='n', min_crit_p=2)"
   ]
  },
  {
   "cell_type": "code",
   "execution_count": null,
   "id": "fa4a4f24-46c8-4262-9bb4-f31805ffffa2",
   "metadata": {},
   "outputs": [],
   "source": [
    "# Successive intensity ratios last-trough aligned\n",
    "output_notebook()\n",
    "analysis_utils.succesive_intensity_r(valid_signals, crit_point='trough', alignment='last-peak', ref='n', min_crit_p=2)"
   ]
  },
  {
   "cell_type": "code",
   "execution_count": null,
   "id": "61c71cca-fe64-428a-99e6-dccf39d4dda4",
   "metadata": {},
   "outputs": [],
   "source": [
    "# Successive period ratios first-peak aligned\n",
    "output_notebook()\n",
    "analysis_utils.successive_period_r(valid_signals, crit_point='peak', alignment='first-peak', ref='n', min_crit_p=3)"
   ]
  },
  {
   "cell_type": "code",
   "execution_count": null,
   "id": "5af800e7-e41a-4f9e-88db-b0d3419c0901",
   "metadata": {},
   "outputs": [],
   "source": [
    "# Successive period ratios last-peak aligned\n",
    "output_notebook()\n",
    "analysis_utils.successive_period_r(valid_signals, crit_point='peak', alignment='last-peak', ref='n', min_crit_p=3)"
   ]
  },
  {
   "cell_type": "code",
   "execution_count": null,
   "id": "192a4840-7669-4355-ae49-04dc810d86ca",
   "metadata": {},
   "outputs": [],
   "source": [
    "# Successive period ratios first-trough aligned\n",
    "output_notebook()\n",
    "analysis_utils.successive_period_r(valid_signals, crit_point='trough', alignment='first-peak', ref='n', min_crit_p=3)"
   ]
  },
  {
   "cell_type": "code",
   "execution_count": null,
   "id": "c4d89233-4c1c-4e74-ae83-b5e984fe3ea5",
   "metadata": {},
   "outputs": [],
   "source": [
    "# Successive period ratios last-trough aligned\n",
    "output_notebook()\n",
    "analysis_utils.successive_period_r(valid_signals, crit_point='trough', alignment='last-peak', ref='n', min_crit_p=3)"
   ]
  },
  {
   "cell_type": "code",
   "execution_count": null,
   "id": "5081de20-258c-4f4a-a520-0f0a8e697952",
   "metadata": {
    "tags": []
   },
   "outputs": [],
   "source": [
    "# Scatter plot Pk+1 vs Pk\n",
    "output_notebook()\n",
    "analysis_utils.successive_period_sc(valid_signals, crit_point='peak', alignment='first-peak', min_crit_p=3, ref='n')"
   ]
  },
  {
   "cell_type": "code",
   "execution_count": null,
   "id": "380beb1e-061e-433d-991c-779536207f9f",
   "metadata": {},
   "outputs": [],
   "source": []
  }
 ],
 "metadata": {
  "kernelspec": {
   "display_name": "Python 3 (ipykernel)",
   "language": "python",
   "name": "python3"
  },
  "language_info": {
   "codemirror_mode": {
    "name": "ipython",
    "version": 3
   },
   "file_extension": ".py",
   "mimetype": "text/x-python",
   "name": "python",
   "nbconvert_exporter": "python",
   "pygments_lexer": "ipython3",
   "version": "3.11.9"
  }
 },
 "nbformat": 4,
 "nbformat_minor": 5
}
